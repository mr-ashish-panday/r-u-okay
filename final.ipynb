{
 "cells": [
  {
   "cell_type": "code",
   "execution_count": 2,
   "metadata": {},
   "outputs": [],
   "source": [
    "import nltk\n",
    "from nltk.sentiment.vader import SentimentIntensityAnalyzer\n",
    "from nltk.sentiment.vader import SentimentIntensityAnalyzer\n",
    "from nltk.tokenize import word_tokenize, sent_tokenize\n",
    "from sklearn.model_selection import train_test_split\n",
    "from textblob import TextBlob\n"
   ]
  },
  {
   "cell_type": "code",
   "execution_count": 3,
   "metadata": {},
   "outputs": [
    {
     "name": "stderr",
     "output_type": "stream",
     "text": [
      "[nltk_data] Downloading package vader_lexicon to\n",
      "[nltk_data]     C:\\Users\\anjan\\AppData\\Roaming\\nltk_data...\n",
      "[nltk_data] Downloading package stopwords to\n",
      "[nltk_data]     C:\\Users\\anjan\\AppData\\Roaming\\nltk_data...\n",
      "[nltk_data]   Unzipping corpora\\stopwords.zip.\n",
      "[nltk_data] Downloading package punkt to\n",
      "[nltk_data]     C:\\Users\\anjan\\AppData\\Roaming\\nltk_data...\n",
      "[nltk_data]   Unzipping tokenizers\\punkt.zip.\n"
     ]
    },
    {
     "data": {
      "text/plain": [
       "True"
      ]
     },
     "execution_count": 3,
     "metadata": {},
     "output_type": "execute_result"
    }
   ],
   "source": [
    "nltk.download('vader_lexicon')\n",
    "nltk.download('stopwords')\n",
    "nltk.download('punkt')\n"
   ]
  },
  {
   "cell_type": "code",
   "execution_count": 4,
   "metadata": {},
   "outputs": [],
   "source": [
    "import pandas as pd"
   ]
  },
  {
   "cell_type": "code",
   "execution_count": 5,
   "metadata": {},
   "outputs": [],
   "source": [
    "df=pd.read_csv(\"Combined Data.csv\")"
   ]
  },
  {
   "cell_type": "code",
   "execution_count": 6,
   "metadata": {},
   "outputs": [],
   "source": [
    "df=df[df['status']!=\"bipolar\"]"
   ]
  },
  {
   "cell_type": "code",
   "execution_count": 7,
   "metadata": {},
   "outputs": [
    {
     "data": {
      "text/plain": [
       "<bound method DataFrame.info of        Unnamed: 0                                          statement   status\n",
       "0               0                                         oh my gosh  Anxiety\n",
       "1               1  trouble sleeping, confused mind, restless hear...  Anxiety\n",
       "2               2  All wrong, back off dear, forward doubt. Stay ...  Anxiety\n",
       "3               3  I've shifted my focus to something else but I'...  Anxiety\n",
       "4               4  I'm restless and restless, it's been a month n...  Anxiety\n",
       "...           ...                                                ...      ...\n",
       "53038       53038  Nobody takes me seriously I’ve (24M) dealt wit...  Anxiety\n",
       "53039       53039  selfishness  \"I don't feel very good, it's lik...  Anxiety\n",
       "53040       53040  Is there any way to sleep better? I can't slee...  Anxiety\n",
       "53041       53041  Public speaking tips? Hi, all. I have to give ...  Anxiety\n",
       "53042       53042  I have really bad door anxiety! It's not about...  Anxiety\n",
       "\n",
       "[52681 rows x 3 columns]>"
      ]
     },
     "execution_count": 7,
     "metadata": {},
     "output_type": "execute_result"
    }
   ],
   "source": [
    "df=df.dropna()\n",
    "df.info"
   ]
  },
  {
   "cell_type": "code",
   "execution_count": 8,
   "metadata": {},
   "outputs": [],
   "source": [
    "df.drop(columns=['Unnamed: 0'],inplace=True,index=0)"
   ]
  },
  {
   "cell_type": "code",
   "execution_count": 9,
   "metadata": {},
   "outputs": [
    {
     "data": {
      "text/plain": [
       "<bound method DataFrame.info of                                                statement   status\n",
       "1      trouble sleeping, confused mind, restless hear...  Anxiety\n",
       "2      All wrong, back off dear, forward doubt. Stay ...  Anxiety\n",
       "3      I've shifted my focus to something else but I'...  Anxiety\n",
       "4      I'm restless and restless, it's been a month n...  Anxiety\n",
       "5      every break, you must be nervous, like somethi...  Anxiety\n",
       "...                                                  ...      ...\n",
       "53038  Nobody takes me seriously I’ve (24M) dealt wit...  Anxiety\n",
       "53039  selfishness  \"I don't feel very good, it's lik...  Anxiety\n",
       "53040  Is there any way to sleep better? I can't slee...  Anxiety\n",
       "53041  Public speaking tips? Hi, all. I have to give ...  Anxiety\n",
       "53042  I have really bad door anxiety! It's not about...  Anxiety\n",
       "\n",
       "[52680 rows x 2 columns]>"
      ]
     },
     "execution_count": 9,
     "metadata": {},
     "output_type": "execute_result"
    }
   ],
   "source": [
    "df.info"
   ]
  },
  {
   "cell_type": "code",
   "execution_count": 10,
   "metadata": {},
   "outputs": [],
   "source": [
    "sia=SentimentIntensityAnalyzer()"
   ]
  },
  {
   "cell_type": "code",
   "execution_count": 11,
   "metadata": {},
   "outputs": [
    {
     "name": "stdout",
     "output_type": "stream",
     "text": [
      "                                               statement  VADER_Sentiment  \\\n",
      "1      trouble sleeping, confused mind, restless hear...          -0.7269   \n",
      "2      All wrong, back off dear, forward doubt. Stay ...          -0.7351   \n",
      "3      I've shifted my focus to something else but I'...          -0.4215   \n",
      "4      I'm restless and restless, it's been a month n...          -0.4939   \n",
      "5      every break, you must be nervous, like somethi...          -0.2144   \n",
      "...                                                  ...              ...   \n",
      "53038  Nobody takes me seriously I’ve (24M) dealt wit...           0.1704   \n",
      "53039  selfishness  \"I don't feel very good, it's lik...          -0.9834   \n",
      "53040  Is there any way to sleep better? I can't slee...           0.1635   \n",
      "53041  Public speaking tips? Hi, all. I have to give ...          -0.6853   \n",
      "53042  I have really bad door anxiety! It's not about...          -0.8603   \n",
      "\n",
      "       TextBlob_Polarity Predicted_Category  \n",
      "1              -0.300000           Sucidial  \n",
      "2              -0.250000           Sucidial  \n",
      "3               0.000000         Depression  \n",
      "4              -0.312500         Depression  \n",
      "5              -0.500000         Depression  \n",
      "...                  ...                ...  \n",
      "53038           0.134932             Normal  \n",
      "53039          -0.003266           Sucidial  \n",
      "53040           0.500000             Normal  \n",
      "53041          -0.035714           Sucidial  \n",
      "53042          -0.119444           Sucidial  \n",
      "\n",
      "[52680 rows x 4 columns]\n"
     ]
    }
   ],
   "source": [
    "def get_vader_sentiment(text):\n",
    "    return sia.polarity_scores(text)\n",
    "\n",
    "def get_textblob_sentiment(text):\n",
    "    analysis = TextBlob(text)\n",
    "    return analysis.sentiment.polarity\n",
    "\n",
    "# Apply sentiment analysis\n",
    "df['VADER_Sentiment'] = df['statement'].apply(lambda x: get_vader_sentiment(x)['compound'])\n",
    "df['TextBlob_Polarity'] = df['statement'].apply(get_textblob_sentiment)\n",
    "\n",
    "# Function to map sentiment score to categories based on thresholds\n",
    "def categorize_sentiment(vader_score, textblob_score):\n",
    "    if vader_score < -0.5 or textblob_score < -0.5:\n",
    "        return 'Sucidial'\n",
    "    elif -0.5 <= vader_score < -0.1 or -0.5 <= textblob_score < -0.1:\n",
    "        return 'Depression'\n",
    "    elif -0.1 <= vader_score < 0.1 or -0.1 <= textblob_score < 0.1:\n",
    "        return 'Anxiety'\n",
    "    else:\n",
    "        return 'Normal'\n",
    "\n",
    "# Categorize based on both VADER and TextBlob sentiment scores\n",
    "df['Predicted_Category'] = df.apply(lambda row: categorize_sentiment(row['VADER_Sentiment'], row['TextBlob_Polarity']), axis=1)\n",
    "\n",
    "# Display the DataFrame with the calculated sentiments and predicted categories\n",
    "print(df[['statement', 'VADER_Sentiment', 'TextBlob_Polarity', 'Predicted_Category']])"
   ]
  },
  {
   "cell_type": "code",
   "execution_count": 12,
   "metadata": {},
   "outputs": [
    {
     "data": {
      "text/plain": [
       "<bound method DataFrame.info of                                                statement   status  \\\n",
       "1      trouble sleeping, confused mind, restless hear...  Anxiety   \n",
       "2      All wrong, back off dear, forward doubt. Stay ...  Anxiety   \n",
       "3      I've shifted my focus to something else but I'...  Anxiety   \n",
       "4      I'm restless and restless, it's been a month n...  Anxiety   \n",
       "5      every break, you must be nervous, like somethi...  Anxiety   \n",
       "...                                                  ...      ...   \n",
       "53038  Nobody takes me seriously I’ve (24M) dealt wit...  Anxiety   \n",
       "53039  selfishness  \"I don't feel very good, it's lik...  Anxiety   \n",
       "53040  Is there any way to sleep better? I can't slee...  Anxiety   \n",
       "53041  Public speaking tips? Hi, all. I have to give ...  Anxiety   \n",
       "53042  I have really bad door anxiety! It's not about...  Anxiety   \n",
       "\n",
       "       VADER_Sentiment  TextBlob_Polarity Predicted_Category  \n",
       "1              -0.7269          -0.300000           Sucidial  \n",
       "2              -0.7351          -0.250000           Sucidial  \n",
       "3              -0.4215           0.000000         Depression  \n",
       "4              -0.4939          -0.312500         Depression  \n",
       "5              -0.2144          -0.500000         Depression  \n",
       "...                ...                ...                ...  \n",
       "53038           0.1704           0.134932             Normal  \n",
       "53039          -0.9834          -0.003266           Sucidial  \n",
       "53040           0.1635           0.500000             Normal  \n",
       "53041          -0.6853          -0.035714           Sucidial  \n",
       "53042          -0.8603          -0.119444           Sucidial  \n",
       "\n",
       "[52680 rows x 5 columns]>"
      ]
     },
     "execution_count": 12,
     "metadata": {},
     "output_type": "execute_result"
    }
   ],
   "source": [
    "df.info"
   ]
  },
  {
   "cell_type": "code",
   "execution_count": 13,
   "metadata": {},
   "outputs": [],
   "source": [
    "label_mapping = {'Anxiety': 0, 'Normal': 3, 'Depression': 1, 'Sucidial': 2}\n",
    "df['Category'] = df['Predicted_Category'].map(label_mapping)"
   ]
  },
  {
   "cell_type": "code",
   "execution_count": 14,
   "metadata": {},
   "outputs": [
    {
     "data": {
      "text/plain": [
       "<bound method DataFrame.info of         status  VADER_Sentiment  TextBlob_Polarity Predicted_Category  \\\n",
       "1      Anxiety          -0.7269          -0.300000           Sucidial   \n",
       "2      Anxiety          -0.7351          -0.250000           Sucidial   \n",
       "3      Anxiety          -0.4215           0.000000         Depression   \n",
       "4      Anxiety          -0.4939          -0.312500         Depression   \n",
       "5      Anxiety          -0.2144          -0.500000         Depression   \n",
       "...        ...              ...                ...                ...   \n",
       "53038  Anxiety           0.1704           0.134932             Normal   \n",
       "53039  Anxiety          -0.9834          -0.003266           Sucidial   \n",
       "53040  Anxiety           0.1635           0.500000             Normal   \n",
       "53041  Anxiety          -0.6853          -0.035714           Sucidial   \n",
       "53042  Anxiety          -0.8603          -0.119444           Sucidial   \n",
       "\n",
       "       Category  \n",
       "1             2  \n",
       "2             2  \n",
       "3             1  \n",
       "4             1  \n",
       "5             1  \n",
       "...         ...  \n",
       "53038         3  \n",
       "53039         2  \n",
       "53040         3  \n",
       "53041         2  \n",
       "53042         2  \n",
       "\n",
       "[52680 rows x 5 columns]>"
      ]
     },
     "execution_count": 14,
     "metadata": {},
     "output_type": "execute_result"
    }
   ],
   "source": [
    "df=df.drop(columns=['statement'],axis=1)\n",
    "df.info"
   ]
  },
  {
   "cell_type": "code",
   "execution_count": 15,
   "metadata": {},
   "outputs": [
    {
     "name": "stdout",
     "output_type": "stream",
     "text": [
      "1       -0.7269\n",
      "2       -0.7351\n",
      "3       -0.4215\n",
      "4       -0.4939\n",
      "5       -0.2144\n",
      "          ...  \n",
      "53038    0.1704\n",
      "53039   -0.9834\n",
      "53040    0.1635\n",
      "53041   -0.6853\n",
      "53042   -0.8603\n",
      "Name: VADER_Sentiment, Length: 52680, dtype: float64\n"
     ]
    }
   ],
   "source": [
    "X=df['VADER_Sentiment']\n",
    "print(X)\n",
    "X=X.values\n",
    "y=df['Category'].values\n",
    "X=X.reshape(-1,1)\n",
    "y=y.reshape(-1,1)"
   ]
  },
  {
   "cell_type": "code",
   "execution_count": 16,
   "metadata": {},
   "outputs": [],
   "source": [
    "X_train, X_test, y_train, y_test = train_test_split(X, y, test_size=0.2, random_state=42)"
   ]
  },
  {
   "cell_type": "code",
   "execution_count": 17,
   "metadata": {},
   "outputs": [],
   "source": [
    "from sklearn.svm import SVC\n",
    "from sklearn import svm\n",
    "from sklearn.metrics import classification_report, accuracy_score"
   ]
  },
  {
   "cell_type": "code",
   "execution_count": 18,
   "metadata": {},
   "outputs": [],
   "source": [
    "# svm_classifier = svm.SVC(kernel='linear', C=1.0)\n",
    "# svm_classifier.fit(X_train, y_train)\n",
    "# y_pred=svm_classifier.predict(X_test)\n",
    "# print(\"Accuracy:\", accuracy_score(y_test, y_pred))\n",
    "# print(\"Classification Report:\\n\", classification_report(y_test, y_pred))"
   ]
  },
  {
   "cell_type": "code",
   "execution_count": 19,
   "metadata": {},
   "outputs": [
    {
     "data": {
      "text/plain": [
       "((42144, 1), (42144, 1))"
      ]
     },
     "execution_count": 19,
     "metadata": {},
     "output_type": "execute_result"
    }
   ],
   "source": [
    "X_train.shape, y_train.shape"
   ]
  },
  {
   "cell_type": "code",
   "execution_count": 20,
   "metadata": {},
   "outputs": [
    {
     "data": {
      "text/plain": [
       "array([[ 0.    ],\n",
       "       [-0.7568],\n",
       "       [-0.9026],\n",
       "       ...,\n",
       "       [-0.9665],\n",
       "       [ 0.5719],\n",
       "       [-0.9402]])"
      ]
     },
     "execution_count": 20,
     "metadata": {},
     "output_type": "execute_result"
    }
   ],
   "source": [
    "X_train"
   ]
  },
  {
   "cell_type": "code",
   "execution_count": 21,
   "metadata": {},
   "outputs": [
    {
     "name": "stderr",
     "output_type": "stream",
     "text": [
      "C:\\Users\\anjan\\AppData\\Roaming\\Python\\Python312\\site-packages\\sklearn\\base.py:1474: DataConversionWarning: A column-vector y was passed when a 1d array was expected. Please change the shape of y to (n_samples,), for example using ravel().\n",
      "  return fit_method(estimator, *args, **kwargs)\n"
     ]
    },
    {
     "name": "stdout",
     "output_type": "stream",
     "text": [
      "Accuracy: 0.8367501898253606\n"
     ]
    }
   ],
   "source": [
    "from sklearn.ensemble import RandomForestClassifier\n",
    "RF_model = RandomForestClassifier(n_estimators=100, random_state=42)\n",
    "RF_model.fit(X_train,y_train)\n",
    "y_pred=RF_model.predict(X_test)\n",
    "\n",
    "print(\"Accuracy:\", accuracy_score(y_test, y_pred))"
   ]
  },
  {
   "cell_type": "code",
   "execution_count": 28,
   "metadata": {},
   "outputs": [
    {
     "data": {
      "text/plain": [
       "array([2], dtype=int64)"
      ]
     },
     "execution_count": 28,
     "metadata": {},
     "output_type": "execute_result"
    }
   ],
   "source": [
    "RF_model.predict([[-1]])"
   ]
  },
  {
   "cell_type": "code",
   "execution_count": 22,
   "metadata": {},
   "outputs": [
    {
     "name": "stderr",
     "output_type": "stream",
     "text": [
      "C:\\Users\\anjan\\AppData\\Roaming\\Python\\Python312\\site-packages\\sklearn\\utils\\validation.py:1300: DataConversionWarning: A column-vector y was passed when a 1d array was expected. Please change the shape of y to (n_samples, ), for example using ravel().\n",
      "  y = column_or_1d(y, warn=True)\n"
     ]
    },
    {
     "name": "stdout",
     "output_type": "stream",
     "text": [
      "Accuracy: 0.8234624145785877\n",
      "Classification Report:\n",
      "               precision    recall  f1-score   support\n",
      "\n",
      "           0       0.68      0.71      0.70      2701\n",
      "           1       0.96      0.65      0.78      1478\n",
      "           2       0.99      0.98      0.99      4632\n",
      "           3       0.58      0.71      0.64      1725\n",
      "\n",
      "    accuracy                           0.82     10536\n",
      "   macro avg       0.80      0.76      0.78     10536\n",
      "weighted avg       0.84      0.82      0.83     10536\n",
      "\n"
     ]
    }
   ],
   "source": [
    "Standard_vector=SVC(kernel='linear',random_state=42)\n",
    "Standard_vector.fit(X_train, y_train)\n",
    "y_pred = Standard_vector.predict(X_test)\n",
    "\n",
    "print(\"Accuracy:\", accuracy_score(y_test, y_pred))\n",
    "print(\"Classification Report:\\n\", classification_report(y_test, y_pred))\n"
   ]
  },
  {
   "cell_type": "code",
   "execution_count": 23,
   "metadata": {},
   "outputs": [],
   "source": [
    "import pickle\n",
    "import pandas as pd\n",
    "import h5py\n",
    "\n"
   ]
  },
  {
   "cell_type": "code",
   "execution_count": 24,
   "metadata": {},
   "outputs": [
    {
     "name": "stdout",
     "output_type": "stream",
     "text": [
      "Defaulting to user installation because normal site-packages is not writeable\n",
      "Requirement already satisfied: h5py in c:\\users\\anjan\\appdata\\roaming\\python\\python312\\site-packages (3.11.0)\n",
      "Requirement already satisfied: numpy>=1.17.3 in c:\\users\\anjan\\appdata\\roaming\\python\\python312\\site-packages (from h5py) (1.26.4)\n",
      "Note: you may need to restart the kernel to use updated packages.\n"
     ]
    }
   ],
   "source": [
    "pip install h5py"
   ]
  },
  {
   "cell_type": "code",
   "execution_count": 29,
   "metadata": {},
   "outputs": [],
   "source": [
    "with open(\"rf_model.pkl\", \"wb\") as file:\n",
    "    pickle.dump(RF_model, file)"
   ]
  },
  {
   "cell_type": "code",
   "execution_count": 25,
   "metadata": {},
   "outputs": [
    {
     "name": "stdout",
     "output_type": "stream",
     "text": [
      "Saved chunk with 53042 records to pickle.\n",
      "Saved chunk with 1 records to pickle.\n"
     ]
    }
   ],
   "source": [
    "import pandas as pd\n",
    "import pickle\n",
    "\n",
    "# Read the CSV file in chunks\n",
    "chunk_size = 53042  # Define the size of each chunk (adjust as needed)\n",
    "csv_file = 'Combined Data.csv'\n",
    "\n",
    "# Open a binary file to store the pickled data\n",
    "with open('data.pkl', 'wb') as pickle_file:\n",
    "    # Iterate over the CSV file in chunks\n",
    "    for chunk in pd.read_csv(csv_file, chunksize=chunk_size):\n",
    "        # Convert the chunk to a list of records (or keep it as a DataFrame if needed)\n",
    "        chunk_list = chunk.to_dict(orient='records')\n",
    "        \n",
    "        # Dump each chunk to the pickle file\n",
    "        pickle.dump(chunk_list, pickle_file)\n",
    "        \n",
    "        print(f\"Saved chunk with {len(chunk_list)} records to pickle.\")"
   ]
  }
 ],
 "metadata": {
  "kernelspec": {
   "display_name": "Python 3",
   "language": "python",
   "name": "python3"
  },
  "language_info": {
   "codemirror_mode": {
    "name": "ipython",
    "version": 3
   },
   "file_extension": ".py",
   "mimetype": "text/x-python",
   "name": "python",
   "nbconvert_exporter": "python",
   "pygments_lexer": "ipython3",
   "version": "3.12.3"
  }
 },
 "nbformat": 4,
 "nbformat_minor": 2
}
